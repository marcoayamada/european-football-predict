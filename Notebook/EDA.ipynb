{
 "cells": [
  {
   "cell_type": "code",
   "execution_count": 157,
   "metadata": {},
   "outputs": [],
   "source": [
    "import pandas as pd\n",
    "import numpy as np\n",
    "import matplotlib.pyplot as plt\n",
    "import seaborn as sns"
   ]
  },
  {
   "cell_type": "code",
   "execution_count": 158,
   "metadata": {},
   "outputs": [],
   "source": [
    "# Pandas options\n",
    "\n",
    "# Formatando e deixando os números sem casas decimais para notação cientifica.\n",
    "pd.options.display.float_format = '{:.0f}'.format\n",
    "\n",
    "# numero maximo de linhas\n",
    "pd.set_option('display.max_rows', 500)\n"
   ]
  },
  {
   "cell_type": "code",
   "execution_count": 159,
   "metadata": {},
   "outputs": [
    {
     "data": {
      "text/plain": [
       "<Figure size 1080x360 with 0 Axes>"
      ]
     },
     "metadata": {},
     "output_type": "display_data"
    }
   ],
   "source": [
    "# Seaborn and matplotlib options\n",
    "\n",
    "plt.figure(figsize=(15,5));\n",
    "sns.set(rc={'figure.figsize':(15,5), 'xtick.direction':'in'});\n",
    "\n",
    "# Função que seta algumas propriedades dos graficos mpl.\n",
    "def cfg_plot(title='', xlabel='', ylabel='', rotation=0):\n",
    "    plt.xticks(rotation=rotation)\n",
    "    plt.title(title)\n",
    "    plt.xlabel(xlabel)\n",
    "    plt.ylabel(ylabel)\n",
    "    plt.show()"
   ]
  },
  {
   "cell_type": "code",
   "execution_count": 160,
   "metadata": {},
   "outputs": [],
   "source": [
    "df = pd.read_json('base-dados-clube-da-aposta.json')"
   ]
  },
  {
   "cell_type": "code",
   "execution_count": 161,
   "metadata": {},
   "outputs": [],
   "source": [
    "ordens_coluna = ['home_name', 'away_name', 'home_score', 'away_score', 'final_result',\n",
    "       'time', 'home_pos', 'away_pos', 'round', 'home_last5all_home',\n",
    "       'home_last5all_home_win', 'home_last5all_home_draw',\n",
    "       'home_last5all_home_lose', 'away_last5all_away',\n",
    "       'away_last5all_away_win', 'away_last5all_away_draw',\n",
    "       'away_last5all_away_lose', 'last5all_home_away_dif', 'fifa_home_ova',\n",
    "       'fifa_home_att', 'fifa_home_mid', 'fifa_home_def', 'fifa_away_ova',\n",
    "       'fifa_away_att', 'fifa_away_mid', 'fifa_away_def', 'elo_home_score',\n",
    "       'elo_away_score', 'tfm_value_home', 'tfm_value_away']"
   ]
  },
  {
   "cell_type": "code",
   "execution_count": 162,
   "metadata": {},
   "outputs": [],
   "source": [
    "df = df[ordens_coluna]"
   ]
  },
  {
   "cell_type": "code",
   "execution_count": 163,
   "metadata": {},
   "outputs": [],
   "source": [
    "df = df.sort_index()"
   ]
  },
  {
   "cell_type": "code",
   "execution_count": 164,
   "metadata": {},
   "outputs": [
    {
     "data": {
      "text/html": [
       "<div>\n",
       "<style scoped>\n",
       "    .dataframe tbody tr th:only-of-type {\n",
       "        vertical-align: middle;\n",
       "    }\n",
       "\n",
       "    .dataframe tbody tr th {\n",
       "        vertical-align: top;\n",
       "    }\n",
       "\n",
       "    .dataframe thead th {\n",
       "        text-align: right;\n",
       "    }\n",
       "</style>\n",
       "<table border=\"1\" class=\"dataframe\">\n",
       "  <thead>\n",
       "    <tr style=\"text-align: right;\">\n",
       "      <th></th>\n",
       "      <th>home_name</th>\n",
       "      <th>away_name</th>\n",
       "      <th>home_score</th>\n",
       "      <th>away_score</th>\n",
       "      <th>final_result</th>\n",
       "      <th>time</th>\n",
       "      <th>home_pos</th>\n",
       "      <th>away_pos</th>\n",
       "      <th>round</th>\n",
       "      <th>home_last5all_home</th>\n",
       "      <th>...</th>\n",
       "      <th>fifa_home_mid</th>\n",
       "      <th>fifa_home_def</th>\n",
       "      <th>fifa_away_ova</th>\n",
       "      <th>fifa_away_att</th>\n",
       "      <th>fifa_away_mid</th>\n",
       "      <th>fifa_away_def</th>\n",
       "      <th>elo_home_score</th>\n",
       "      <th>elo_away_score</th>\n",
       "      <th>tfm_value_home</th>\n",
       "      <th>tfm_value_away</th>\n",
       "    </tr>\n",
       "  </thead>\n",
       "  <tbody>\n",
       "    <tr>\n",
       "      <th>0</th>\n",
       "      <td>FC Porto</td>\n",
       "      <td>Nacional</td>\n",
       "      <td>3</td>\n",
       "      <td>1</td>\n",
       "      <td>H</td>\n",
       "      <td>1546895700</td>\n",
       "      <td>1</td>\n",
       "      <td>11</td>\n",
       "      <td>16</td>\n",
       "      <td>9</td>\n",
       "      <td>...</td>\n",
       "      <td>81</td>\n",
       "      <td>80</td>\n",
       "      <td>70</td>\n",
       "      <td>70</td>\n",
       "      <td>70</td>\n",
       "      <td>69</td>\n",
       "      <td>1814</td>\n",
       "      <td>1393</td>\n",
       "      <td>277980000</td>\n",
       "      <td>9450000</td>\n",
       "    </tr>\n",
       "    <tr>\n",
       "      <th>1</th>\n",
       "      <td>Tenerife</td>\n",
       "      <td>Elche</td>\n",
       "      <td>2</td>\n",
       "      <td>1</td>\n",
       "      <td>H</td>\n",
       "      <td>1546632000</td>\n",
       "      <td>18</td>\n",
       "      <td>15</td>\n",
       "      <td>20</td>\n",
       "      <td>2</td>\n",
       "      <td>...</td>\n",
       "      <td>71</td>\n",
       "      <td>69</td>\n",
       "      <td>67</td>\n",
       "      <td>69</td>\n",
       "      <td>67</td>\n",
       "      <td>67</td>\n",
       "      <td>1513</td>\n",
       "      <td>1476</td>\n",
       "      <td>10900000</td>\n",
       "      <td>9600000</td>\n",
       "    </tr>\n",
       "    <tr>\n",
       "      <th>2</th>\n",
       "      <td>Niort</td>\n",
       "      <td>Brest</td>\n",
       "      <td>1</td>\n",
       "      <td>1</td>\n",
       "      <td>D</td>\n",
       "      <td>1545420600</td>\n",
       "      <td>7</td>\n",
       "      <td>2</td>\n",
       "      <td>19</td>\n",
       "      <td>1</td>\n",
       "      <td>...</td>\n",
       "      <td>65</td>\n",
       "      <td>65</td>\n",
       "      <td>68</td>\n",
       "      <td>68</td>\n",
       "      <td>68</td>\n",
       "      <td>69</td>\n",
       "      <td>1385</td>\n",
       "      <td>1496</td>\n",
       "      <td>6700000</td>\n",
       "      <td>15850000</td>\n",
       "    </tr>\n",
       "    <tr>\n",
       "      <th>3</th>\n",
       "      <td>Liverpool</td>\n",
       "      <td>Man Utd</td>\n",
       "      <td>3</td>\n",
       "      <td>1</td>\n",
       "      <td>H</td>\n",
       "      <td>1544976000</td>\n",
       "      <td>2</td>\n",
       "      <td>6</td>\n",
       "      <td>17</td>\n",
       "      <td>11</td>\n",
       "      <td>...</td>\n",
       "      <td>83</td>\n",
       "      <td>81</td>\n",
       "      <td>83</td>\n",
       "      <td>84</td>\n",
       "      <td>82</td>\n",
       "      <td>79</td>\n",
       "      <td>1931</td>\n",
       "      <td>1841</td>\n",
       "      <td>913000000</td>\n",
       "      <td>835000000</td>\n",
       "    </tr>\n",
       "    <tr>\n",
       "      <th>4</th>\n",
       "      <td>Southampton</td>\n",
       "      <td>Arsenal</td>\n",
       "      <td>3</td>\n",
       "      <td>2</td>\n",
       "      <td>H</td>\n",
       "      <td>1544967000</td>\n",
       "      <td>19</td>\n",
       "      <td>5</td>\n",
       "      <td>17</td>\n",
       "      <td>-3</td>\n",
       "      <td>...</td>\n",
       "      <td>77</td>\n",
       "      <td>77</td>\n",
       "      <td>82</td>\n",
       "      <td>85</td>\n",
       "      <td>83</td>\n",
       "      <td>80</td>\n",
       "      <td>1606</td>\n",
       "      <td>1856</td>\n",
       "      <td>266100000</td>\n",
       "      <td>574000000</td>\n",
       "    </tr>\n",
       "    <tr>\n",
       "      <th>5</th>\n",
       "      <td>Brighton</td>\n",
       "      <td>Chelsea</td>\n",
       "      <td>1</td>\n",
       "      <td>2</td>\n",
       "      <td>A</td>\n",
       "      <td>1544967000</td>\n",
       "      <td>13</td>\n",
       "      <td>4</td>\n",
       "      <td>17</td>\n",
       "      <td>3</td>\n",
       "      <td>...</td>\n",
       "      <td>75</td>\n",
       "      <td>76</td>\n",
       "      <td>83</td>\n",
       "      <td>84</td>\n",
       "      <td>84</td>\n",
       "      <td>83</td>\n",
       "      <td>1637</td>\n",
       "      <td>1859</td>\n",
       "      <td>177000000</td>\n",
       "      <td>892250000</td>\n",
       "    </tr>\n",
       "    <tr>\n",
       "      <th>6</th>\n",
       "      <td>Fulham</td>\n",
       "      <td>West Ham</td>\n",
       "      <td>0</td>\n",
       "      <td>2</td>\n",
       "      <td>A</td>\n",
       "      <td>1544895000</td>\n",
       "      <td>20</td>\n",
       "      <td>11</td>\n",
       "      <td>17</td>\n",
       "      <td>-6</td>\n",
       "      <td>...</td>\n",
       "      <td>76</td>\n",
       "      <td>73</td>\n",
       "      <td>78</td>\n",
       "      <td>79</td>\n",
       "      <td>77</td>\n",
       "      <td>77</td>\n",
       "      <td>1574</td>\n",
       "      <td>1690</td>\n",
       "      <td>250500000</td>\n",
       "      <td>287500000</td>\n",
       "    </tr>\n",
       "    <tr>\n",
       "      <th>7</th>\n",
       "      <td>Huddersfield</td>\n",
       "      <td>Newcastle</td>\n",
       "      <td>0</td>\n",
       "      <td>1</td>\n",
       "      <td>A</td>\n",
       "      <td>1544886000</td>\n",
       "      <td>18</td>\n",
       "      <td>15</td>\n",
       "      <td>17</td>\n",
       "      <td>-3</td>\n",
       "      <td>...</td>\n",
       "      <td>74</td>\n",
       "      <td>75</td>\n",
       "      <td>76</td>\n",
       "      <td>76</td>\n",
       "      <td>76</td>\n",
       "      <td>76</td>\n",
       "      <td>1546</td>\n",
       "      <td>1625</td>\n",
       "      <td>120600000</td>\n",
       "      <td>174000000</td>\n",
       "    </tr>\n",
       "    <tr>\n",
       "      <th>8</th>\n",
       "      <td>Crystal Palace</td>\n",
       "      <td>Leicester</td>\n",
       "      <td>1</td>\n",
       "      <td>0</td>\n",
       "      <td>H</td>\n",
       "      <td>1544886000</td>\n",
       "      <td>16</td>\n",
       "      <td>9</td>\n",
       "      <td>17</td>\n",
       "      <td>0</td>\n",
       "      <td>...</td>\n",
       "      <td>77</td>\n",
       "      <td>76</td>\n",
       "      <td>78</td>\n",
       "      <td>82</td>\n",
       "      <td>77</td>\n",
       "      <td>78</td>\n",
       "      <td>1640</td>\n",
       "      <td>1686</td>\n",
       "      <td>219250000</td>\n",
       "      <td>344500000</td>\n",
       "    </tr>\n",
       "    <tr>\n",
       "      <th>9</th>\n",
       "      <td>Tottenham</td>\n",
       "      <td>Burnley</td>\n",
       "      <td>1</td>\n",
       "      <td>0</td>\n",
       "      <td>H</td>\n",
       "      <td>1544886000</td>\n",
       "      <td>3</td>\n",
       "      <td>17</td>\n",
       "      <td>17</td>\n",
       "      <td>5</td>\n",
       "      <td>...</td>\n",
       "      <td>83</td>\n",
       "      <td>83</td>\n",
       "      <td>77</td>\n",
       "      <td>76</td>\n",
       "      <td>77</td>\n",
       "      <td>77</td>\n",
       "      <td>1907</td>\n",
       "      <td>1617</td>\n",
       "      <td>837500000</td>\n",
       "      <td>181750000</td>\n",
       "    </tr>\n",
       "  </tbody>\n",
       "</table>\n",
       "<p>10 rows × 30 columns</p>\n",
       "</div>"
      ],
      "text/plain": [
       "        home_name  away_name  home_score  away_score final_result        time  \\\n",
       "0        FC Porto   Nacional           3           1            H  1546895700   \n",
       "1        Tenerife      Elche           2           1            H  1546632000   \n",
       "2           Niort      Brest           1           1            D  1545420600   \n",
       "3       Liverpool    Man Utd           3           1            H  1544976000   \n",
       "4     Southampton    Arsenal           3           2            H  1544967000   \n",
       "5        Brighton    Chelsea           1           2            A  1544967000   \n",
       "6          Fulham   West Ham           0           2            A  1544895000   \n",
       "7    Huddersfield  Newcastle           0           1            A  1544886000   \n",
       "8  Crystal Palace  Leicester           1           0            H  1544886000   \n",
       "9       Tottenham    Burnley           1           0            H  1544886000   \n",
       "\n",
       "   home_pos  away_pos  round  home_last5all_home       ...        \\\n",
       "0         1        11     16                   9       ...         \n",
       "1        18        15     20                   2       ...         \n",
       "2         7         2     19                   1       ...         \n",
       "3         2         6     17                  11       ...         \n",
       "4        19         5     17                  -3       ...         \n",
       "5        13         4     17                   3       ...         \n",
       "6        20        11     17                  -6       ...         \n",
       "7        18        15     17                  -3       ...         \n",
       "8        16         9     17                   0       ...         \n",
       "9         3        17     17                   5       ...         \n",
       "\n",
       "   fifa_home_mid  fifa_home_def  fifa_away_ova  fifa_away_att  fifa_away_mid  \\\n",
       "0             81             80             70             70             70   \n",
       "1             71             69             67             69             67   \n",
       "2             65             65             68             68             68   \n",
       "3             83             81             83             84             82   \n",
       "4             77             77             82             85             83   \n",
       "5             75             76             83             84             84   \n",
       "6             76             73             78             79             77   \n",
       "7             74             75             76             76             76   \n",
       "8             77             76             78             82             77   \n",
       "9             83             83             77             76             77   \n",
       "\n",
       "   fifa_away_def  elo_home_score  elo_away_score  tfm_value_home  \\\n",
       "0             69            1814            1393       277980000   \n",
       "1             67            1513            1476        10900000   \n",
       "2             69            1385            1496         6700000   \n",
       "3             79            1931            1841       913000000   \n",
       "4             80            1606            1856       266100000   \n",
       "5             83            1637            1859       177000000   \n",
       "6             77            1574            1690       250500000   \n",
       "7             76            1546            1625       120600000   \n",
       "8             78            1640            1686       219250000   \n",
       "9             77            1907            1617       837500000   \n",
       "\n",
       "   tfm_value_away  \n",
       "0         9450000  \n",
       "1         9600000  \n",
       "2        15850000  \n",
       "3       835000000  \n",
       "4       574000000  \n",
       "5       892250000  \n",
       "6       287500000  \n",
       "7       174000000  \n",
       "8       344500000  \n",
       "9       181750000  \n",
       "\n",
       "[10 rows x 30 columns]"
      ]
     },
     "execution_count": 164,
     "metadata": {},
     "output_type": "execute_result"
    }
   ],
   "source": [
    "df.head(10)"
   ]
  },
  {
   "cell_type": "code",
   "execution_count": 165,
   "metadata": {},
   "outputs": [
    {
     "data": {
      "text/html": [
       "<div>\n",
       "<style scoped>\n",
       "    .dataframe tbody tr th:only-of-type {\n",
       "        vertical-align: middle;\n",
       "    }\n",
       "\n",
       "    .dataframe tbody tr th {\n",
       "        vertical-align: top;\n",
       "    }\n",
       "\n",
       "    .dataframe thead th {\n",
       "        text-align: right;\n",
       "    }\n",
       "</style>\n",
       "<table border=\"1\" class=\"dataframe\">\n",
       "  <thead>\n",
       "    <tr style=\"text-align: right;\">\n",
       "      <th></th>\n",
       "      <th>home_name</th>\n",
       "      <th>away_name</th>\n",
       "      <th>home_score</th>\n",
       "      <th>away_score</th>\n",
       "      <th>final_result</th>\n",
       "      <th>time</th>\n",
       "      <th>home_pos</th>\n",
       "      <th>away_pos</th>\n",
       "      <th>round</th>\n",
       "      <th>home_last5all_home</th>\n",
       "      <th>...</th>\n",
       "      <th>fifa_home_mid</th>\n",
       "      <th>fifa_home_def</th>\n",
       "      <th>fifa_away_ova</th>\n",
       "      <th>fifa_away_att</th>\n",
       "      <th>fifa_away_mid</th>\n",
       "      <th>fifa_away_def</th>\n",
       "      <th>elo_home_score</th>\n",
       "      <th>elo_away_score</th>\n",
       "      <th>tfm_value_home</th>\n",
       "      <th>tfm_value_away</th>\n",
       "    </tr>\n",
       "  </thead>\n",
       "  <tbody>\n",
       "    <tr>\n",
       "      <th>5158</th>\n",
       "      <td>Guimaraes</td>\n",
       "      <td>Vitoria Setubal</td>\n",
       "      <td>1</td>\n",
       "      <td>1</td>\n",
       "      <td>D</td>\n",
       "      <td>1523734200</td>\n",
       "      <td>9</td>\n",
       "      <td>15</td>\n",
       "      <td>30</td>\n",
       "      <td>0</td>\n",
       "      <td>...</td>\n",
       "      <td>75</td>\n",
       "      <td>74</td>\n",
       "      <td>71</td>\n",
       "      <td>73</td>\n",
       "      <td>70</td>\n",
       "      <td>72</td>\n",
       "      <td>1460</td>\n",
       "      <td>1389</td>\n",
       "      <td>34800000</td>\n",
       "      <td>17450000</td>\n",
       "    </tr>\n",
       "    <tr>\n",
       "      <th>5159</th>\n",
       "      <td>CD Aves</td>\n",
       "      <td>Feirense</td>\n",
       "      <td>1</td>\n",
       "      <td>0</td>\n",
       "      <td>H</td>\n",
       "      <td>1523718000</td>\n",
       "      <td>16</td>\n",
       "      <td>17</td>\n",
       "      <td>30</td>\n",
       "      <td>4</td>\n",
       "      <td>...</td>\n",
       "      <td>72</td>\n",
       "      <td>71</td>\n",
       "      <td>69</td>\n",
       "      <td>67</td>\n",
       "      <td>70</td>\n",
       "      <td>68</td>\n",
       "      <td>1354</td>\n",
       "      <td>1368</td>\n",
       "      <td>11350000</td>\n",
       "      <td>12450000</td>\n",
       "    </tr>\n",
       "    <tr>\n",
       "      <th>5160</th>\n",
       "      <td>Moreirense</td>\n",
       "      <td>Boavista</td>\n",
       "      <td>1</td>\n",
       "      <td>0</td>\n",
       "      <td>H</td>\n",
       "      <td>1523300400</td>\n",
       "      <td>16</td>\n",
       "      <td>7</td>\n",
       "      <td>29</td>\n",
       "      <td>1</td>\n",
       "      <td>...</td>\n",
       "      <td>71</td>\n",
       "      <td>70</td>\n",
       "      <td>72</td>\n",
       "      <td>67</td>\n",
       "      <td>73</td>\n",
       "      <td>71</td>\n",
       "      <td>1375</td>\n",
       "      <td>1432</td>\n",
       "      <td>14750000</td>\n",
       "      <td>15950000</td>\n",
       "    </tr>\n",
       "    <tr>\n",
       "      <th>5161</th>\n",
       "      <td>FC Porto</td>\n",
       "      <td>CD Aves</td>\n",
       "      <td>2</td>\n",
       "      <td>0</td>\n",
       "      <td>H</td>\n",
       "      <td>1523206800</td>\n",
       "      <td>2</td>\n",
       "      <td>15</td>\n",
       "      <td>29</td>\n",
       "      <td>4</td>\n",
       "      <td>...</td>\n",
       "      <td>80</td>\n",
       "      <td>80</td>\n",
       "      <td>71</td>\n",
       "      <td>71</td>\n",
       "      <td>72</td>\n",
       "      <td>71</td>\n",
       "      <td>1743</td>\n",
       "      <td>1355</td>\n",
       "      <td>211350000</td>\n",
       "      <td>11350000</td>\n",
       "    </tr>\n",
       "    <tr>\n",
       "      <th>5162</th>\n",
       "      <td>Vitoria Setubal</td>\n",
       "      <td>Benfica</td>\n",
       "      <td>1</td>\n",
       "      <td>2</td>\n",
       "      <td>A</td>\n",
       "      <td>1523129400</td>\n",
       "      <td>13</td>\n",
       "      <td>1</td>\n",
       "      <td>29</td>\n",
       "      <td>4</td>\n",
       "      <td>...</td>\n",
       "      <td>70</td>\n",
       "      <td>72</td>\n",
       "      <td>78</td>\n",
       "      <td>80</td>\n",
       "      <td>79</td>\n",
       "      <td>78</td>\n",
       "      <td>1391</td>\n",
       "      <td>1745</td>\n",
       "      <td>17450000</td>\n",
       "      <td>163400000</td>\n",
       "    </tr>\n",
       "  </tbody>\n",
       "</table>\n",
       "<p>5 rows × 30 columns</p>\n",
       "</div>"
      ],
      "text/plain": [
       "            home_name        away_name  home_score  away_score final_result  \\\n",
       "5158        Guimaraes  Vitoria Setubal           1           1            D   \n",
       "5159          CD Aves         Feirense           1           0            H   \n",
       "5160       Moreirense         Boavista           1           0            H   \n",
       "5161         FC Porto          CD Aves           2           0            H   \n",
       "5162  Vitoria Setubal          Benfica           1           2            A   \n",
       "\n",
       "            time  home_pos  away_pos  round  home_last5all_home  \\\n",
       "5158  1523734200         9        15     30                   0   \n",
       "5159  1523718000        16        17     30                   4   \n",
       "5160  1523300400        16         7     29                   1   \n",
       "5161  1523206800         2        15     29                   4   \n",
       "5162  1523129400        13         1     29                   4   \n",
       "\n",
       "           ...        fifa_home_mid  fifa_home_def  fifa_away_ova  \\\n",
       "5158       ...                   75             74             71   \n",
       "5159       ...                   72             71             69   \n",
       "5160       ...                   71             70             72   \n",
       "5161       ...                   80             80             71   \n",
       "5162       ...                   70             72             78   \n",
       "\n",
       "      fifa_away_att  fifa_away_mid  fifa_away_def  elo_home_score  \\\n",
       "5158             73             70             72            1460   \n",
       "5159             67             70             68            1354   \n",
       "5160             67             73             71            1375   \n",
       "5161             71             72             71            1743   \n",
       "5162             80             79             78            1391   \n",
       "\n",
       "      elo_away_score  tfm_value_home  tfm_value_away  \n",
       "5158            1389        34800000        17450000  \n",
       "5159            1368        11350000        12450000  \n",
       "5160            1432        14750000        15950000  \n",
       "5161            1355       211350000        11350000  \n",
       "5162            1745        17450000       163400000  \n",
       "\n",
       "[5 rows x 30 columns]"
      ]
     },
     "execution_count": 165,
     "metadata": {},
     "output_type": "execute_result"
    }
   ],
   "source": [
    "df.tail()"
   ]
  },
  {
   "cell_type": "code",
   "execution_count": 166,
   "metadata": {
    "scrolled": false
   },
   "outputs": [
    {
     "name": "stdout",
     "output_type": "stream",
     "text": [
      "<class 'pandas.core.frame.DataFrame'>\n",
      "Int64Index: 5163 entries, 0 to 5162\n",
      "Data columns (total 30 columns):\n",
      "home_name                  5163 non-null object\n",
      "away_name                  5163 non-null object\n",
      "home_score                 5163 non-null int64\n",
      "away_score                 5163 non-null int64\n",
      "final_result               5163 non-null object\n",
      "time                       5163 non-null int64\n",
      "home_pos                   5163 non-null int64\n",
      "away_pos                   5163 non-null int64\n",
      "round                      5163 non-null int64\n",
      "home_last5all_home         5163 non-null int64\n",
      "home_last5all_home_win     5163 non-null int64\n",
      "home_last5all_home_draw    5163 non-null int64\n",
      "home_last5all_home_lose    5163 non-null int64\n",
      "away_last5all_away         5163 non-null int64\n",
      "away_last5all_away_win     5163 non-null int64\n",
      "away_last5all_away_draw    5163 non-null int64\n",
      "away_last5all_away_lose    5163 non-null int64\n",
      "last5all_home_away_dif     5163 non-null int64\n",
      "fifa_home_ova              5163 non-null int64\n",
      "fifa_home_att              5163 non-null int64\n",
      "fifa_home_mid              5163 non-null int64\n",
      "fifa_home_def              5163 non-null int64\n",
      "fifa_away_ova              5163 non-null int64\n",
      "fifa_away_att              5163 non-null int64\n",
      "fifa_away_mid              5163 non-null int64\n",
      "fifa_away_def              5163 non-null int64\n",
      "elo_home_score             5163 non-null float64\n",
      "elo_away_score             5163 non-null float64\n",
      "tfm_value_home             5163 non-null float64\n",
      "tfm_value_away             5163 non-null float64\n",
      "dtypes: float64(4), int64(23), object(3)\n",
      "memory usage: 1.2+ MB\n"
     ]
    }
   ],
   "source": [
    "df.info()"
   ]
  },
  {
   "cell_type": "markdown",
   "metadata": {},
   "source": [
    "## Dados no tempo"
   ]
  },
  {
   "cell_type": "code",
   "execution_count": 167,
   "metadata": {},
   "outputs": [],
   "source": [
    "time = pd.to_datetime(df.time,unit='s').sort_values()"
   ]
  },
  {
   "cell_type": "code",
   "execution_count": 168,
   "metadata": {},
   "outputs": [
    {
     "data": {
      "text/plain": [
       "4280   2016-11-05 12:00:00\n",
       "2593   2016-11-05 14:30:00\n",
       "2592   2016-11-05 14:30:00\n",
       "2591   2016-11-05 14:30:00\n",
       "4089   2016-11-05 15:00:00\n",
       "Name: time, dtype: datetime64[ns]"
      ]
     },
     "execution_count": 168,
     "metadata": {},
     "output_type": "execute_result"
    }
   ],
   "source": [
    "time.head()"
   ]
  },
  {
   "cell_type": "code",
   "execution_count": 169,
   "metadata": {},
   "outputs": [
    {
     "data": {
      "text/plain": [
       "80   2018-12-17 19:45:00\n",
       "73   2018-12-17 20:00:00\n",
       "2    2018-12-21 19:30:00\n",
       "1    2019-01-04 20:00:00\n",
       "0    2019-01-07 21:15:00\n",
       "Name: time, dtype: datetime64[ns]"
      ]
     },
     "execution_count": 169,
     "metadata": {},
     "output_type": "execute_result"
    }
   ],
   "source": [
    "time.tail()"
   ]
  },
  {
   "cell_type": "code",
   "execution_count": 170,
   "metadata": {},
   "outputs": [
    {
     "data": {
      "text/plain": [
       "2018    2746\n",
       "2017    2366\n",
       "2016      49\n",
       "2019       2\n",
       "Name: time, dtype: int64"
      ]
     },
     "execution_count": 170,
     "metadata": {},
     "output_type": "execute_result"
    }
   ],
   "source": [
    "time.dt.year.value_counts()"
   ]
  },
  {
   "cell_type": "markdown",
   "metadata": {},
   "source": [
    "## Campeonatos misturados\n",
    "\n",
    "Não há uma feature que faça a distinção entre as ligas, tanto de mesmo país quanto de países diferentes."
   ]
  },
  {
   "cell_type": "markdown",
   "metadata": {},
   "source": [
    "## Vários jogos contra mesmos times"
   ]
  },
  {
   "cell_type": "code",
   "execution_count": 171,
   "metadata": {
    "scrolled": true
   },
   "outputs": [
    {
     "data": {
      "text/plain": [
       "Chelsea        35\n",
       "Man City       35\n",
       "Southampton    34\n",
       "Leicester      34\n",
       "West Brom      34\n",
       "Name: home_name, dtype: int64"
      ]
     },
     "execution_count": 171,
     "metadata": {},
     "output_type": "execute_result"
    }
   ],
   "source": [
    "df.home_name.value_counts().head()"
   ]
  },
  {
   "cell_type": "markdown",
   "metadata": {},
   "source": [
    "Existem times duplicados no dataset. O conjunto de dados retrata os resultados de várias rodadas de vários campeonatos."
   ]
  },
  {
   "cell_type": "markdown",
   "metadata": {},
   "source": [
    "## Correlação\n",
    "\n"
   ]
  },
  {
   "cell_type": "code",
   "execution_count": 172,
   "metadata": {},
   "outputs": [
    {
     "data": {
      "text/plain": [
       "<matplotlib.axes._subplots.AxesSubplot at 0x186e158a908>"
      ]
     },
     "execution_count": 172,
     "metadata": {},
     "output_type": "execute_result"
    },
    {
     "data": {
      "image/png": "[encoded data removed]",
      "text/plain": [
       "<Figure size 1440x720 with 2 Axes>"
      ]
     },
     "metadata": {},
     "output_type": "display_data"
    }
   ],
   "source": [
    "fig, ax = plt.subplots(figsize=(20,10))\n",
    "sns.heatmap(df.corr(), ax=ax, cmap ='coolwarm')"
   ]
  },
  {
   "cell_type": "markdown",
   "metadata": {},
   "source": [
    "## Home x Away scores\n",
    "\n",
    "Quem ganhou na maioria das vezes? Mandante ou visitante?"
   ]
  },
  {
   "cell_type": "code",
   "execution_count": 173,
   "metadata": {
    "scrolled": true
   },
   "outputs": [
    {
     "data": {
      "image/png": "[encoded data removed]",
      "text/plain": [
       "<Figure size 1080x360 with 1 Axes>"
      ]
     },
     "metadata": {},
     "output_type": "display_data"
    }
   ],
   "source": [
    "df.final_result.value_counts().plot(kind='bar', color='salmon')\n",
    "cfg_plot('Quem ganhou mais: mandante ou visitante?', 'Lado da vitória', 'Quantidade')"
   ]
  },
  {
   "cell_type": "markdown",
   "metadata": {},
   "source": [
    "Como era de se esperar, mandantes ganham mais. Mas os visitantes também tem uma parcela de vitórias. Vamos investigar!"
   ]
  },
  {
   "cell_type": "markdown",
   "metadata": {},
   "source": [
    "## fifa_ova\n",
    "O ranking na FIFA e o valor de mercado do time influenciam nas vitórias dos visitantes? Vamos ver:"
   ]
  },
  {
   "cell_type": "code",
   "execution_count": 174,
   "metadata": {
    "scrolled": true
   },
   "outputs": [
    {
     "data": {
      "text/html": [
       "<div>\n",
       "<style scoped>\n",
       "    .dataframe tbody tr th:only-of-type {\n",
       "        vertical-align: middle;\n",
       "    }\n",
       "\n",
       "    .dataframe tbody tr th {\n",
       "        vertical-align: top;\n",
       "    }\n",
       "\n",
       "    .dataframe thead th {\n",
       "        text-align: right;\n",
       "    }\n",
       "</style>\n",
       "<table border=\"1\" class=\"dataframe\">\n",
       "  <thead>\n",
       "    <tr style=\"text-align: right;\">\n",
       "      <th></th>\n",
       "      <th>home_name</th>\n",
       "      <th>away_name</th>\n",
       "      <th>fifa_home_ova</th>\n",
       "      <th>fifa_away_ova</th>\n",
       "      <th>tfm_value_home</th>\n",
       "      <th>tfm_value_away</th>\n",
       "    </tr>\n",
       "  </thead>\n",
       "  <tbody>\n",
       "    <tr>\n",
       "      <th>5</th>\n",
       "      <td>Brighton</td>\n",
       "      <td>Chelsea</td>\n",
       "      <td>76</td>\n",
       "      <td>83</td>\n",
       "      <td>177000000</td>\n",
       "      <td>892250000</td>\n",
       "    </tr>\n",
       "    <tr>\n",
       "      <th>6</th>\n",
       "      <td>Fulham</td>\n",
       "      <td>West Ham</td>\n",
       "      <td>76</td>\n",
       "      <td>78</td>\n",
       "      <td>250500000</td>\n",
       "      <td>287500000</td>\n",
       "    </tr>\n",
       "    <tr>\n",
       "      <th>7</th>\n",
       "      <td>Huddersfield</td>\n",
       "      <td>Newcastle</td>\n",
       "      <td>75</td>\n",
       "      <td>76</td>\n",
       "      <td>120600000</td>\n",
       "      <td>174000000</td>\n",
       "    </tr>\n",
       "    <tr>\n",
       "      <th>11</th>\n",
       "      <td>Levante</td>\n",
       "      <td>Barcelona</td>\n",
       "      <td>76</td>\n",
       "      <td>86</td>\n",
       "      <td>86000000</td>\n",
       "      <td>1230000000</td>\n",
       "    </tr>\n",
       "    <tr>\n",
       "      <th>16</th>\n",
       "      <td>Valladolid</td>\n",
       "      <td>Atletico Madrid</td>\n",
       "      <td>73</td>\n",
       "      <td>84</td>\n",
       "      <td>41700000</td>\n",
       "      <td>898000000</td>\n",
       "    </tr>\n",
       "  </tbody>\n",
       "</table>\n",
       "</div>"
      ],
      "text/plain": [
       "       home_name        away_name  fifa_home_ova  fifa_away_ova  \\\n",
       "5       Brighton          Chelsea             76             83   \n",
       "6         Fulham         West Ham             76             78   \n",
       "7   Huddersfield        Newcastle             75             76   \n",
       "11       Levante        Barcelona             76             86   \n",
       "16    Valladolid  Atletico Madrid             73             84   \n",
       "\n",
       "    tfm_value_home  tfm_value_away  \n",
       "5        177000000       892250000  \n",
       "6        250500000       287500000  \n",
       "7        120600000       174000000  \n",
       "11        86000000      1230000000  \n",
       "16        41700000       898000000  "
      ]
     },
     "execution_count": 174,
     "metadata": {},
     "output_type": "execute_result"
    }
   ],
   "source": [
    "# filtrando apenas times que venceram fora de casa\n",
    "only_away = df[df.final_result == 'A'][['home_name', 'away_name','fifa_home_ova', 'fifa_away_ova', 'tfm_value_home', 'tfm_value_away']]\n",
    "only_away.head()"
   ]
  },
  {
   "cell_type": "code",
   "execution_count": 175,
   "metadata": {
    "scrolled": true
   },
   "outputs": [
    {
     "data": {
      "text/plain": [
       "5      7\n",
       "6      2\n",
       "7      1\n",
       "11    10\n",
       "16    11\n",
       "20     7\n",
       "22     2\n",
       "24     8\n",
       "28     4\n",
       "30     8\n",
       "dtype: int64"
      ]
     },
     "execution_count": 175,
     "metadata": {},
     "output_type": "execute_result"
    }
   ],
   "source": [
    "# comparando o fifa_ova. Away - Home.\n",
    "# Positivo: away melhor\n",
    "# Negativo: home melhor\n",
    "\n",
    "ova_diff = only_away[['fifa_home_ova', 'fifa_away_ova']].apply(lambda x: x[1]-x[0],axis=1)\n",
    "ova_diff[:10]"
   ]
  },
  {
   "cell_type": "code",
   "execution_count": 176,
   "metadata": {},
   "outputs": [
    {
     "data": {
      "image/png": "[encoded data removed]",
      "text/plain": [
       "<Figure size 1080x360 with 1 Axes>"
      ]
     },
     "metadata": {},
     "output_type": "display_data"
    }
   ],
   "source": [
    "# total de registros\n",
    "total_reg = ova_diff.value_counts()\n",
    "\n",
    "ova_diff.hist(bins=total_reg.count())\n",
    "plt.xticks(ova_diff.value_counts().index)\n",
    "cfg_plot(\"Quantidade de vencedores visitantes e a diferença entre o overall do away e do home\", \n",
    "         \"Diferença entre o FIFA Overall\", \n",
    "         \"Quantidade\")"
   ]
  },
  {
   "cell_type": "markdown",
   "metadata": {},
   "source": [
    "Diferenças positivas indicam que o time visitante tem o ranking mais alto.\n",
    "Diferenças negativas indicam que o time da casa tem o ranking mais alto.\n",
    "\n",
    "Os dados retratam praticamente uma curva normal padrão. As diferenças positivas parecem seguir uma tendência mais suave até o final, enquanto as diferenças negativas parecem não ser tão suaves assim."
   ]
  },
  {
   "cell_type": "code",
   "execution_count": 177,
   "metadata": {},
   "outputs": [
    {
     "name": "stdout",
     "output_type": "stream",
     "text": [
      "Desvio padrão: 4.063045300465072\n",
      "Média: 2.001333333333333\n"
     ]
    }
   ],
   "source": [
    "print('Desvio padrão: {0}'.format(ova_diff.std()))\n",
    "print('Média: {0}'.format(ova_diff.mean()))"
   ]
  },
  {
   "cell_type": "markdown",
   "metadata": {},
   "source": [
    "Verificando a média e o desvio padrão dos dados, é possível notar que 95% dos dados encontram-se entre -6 e 10. Isso é suficiente para dizer que a maioria dos times com o Overall maior ganham mais jogos fora de casa.\n",
    "\n",
    "Então times com Overall baixo que ganham de times melhores, são considerados zebras? Difícil saber sem analisar outras características separadamente como Overall apenas da defesa ou gols pró em todo campeonato.\n",
    "\n",
    "Times com menor investimento geralmente possuem Overall mais baixo e quando esses times enfretam clubes maiores geralmente se fecham na defesa e esperam AQUELA bola do jogo inteiro mesmo jogando em casa, mas isso claro que não é regra. É necessário analisar outras características para afirmar algo com mais precisão."
   ]
  },
  {
   "cell_type": "markdown",
   "metadata": {},
   "source": [
    "## tfm_value"
   ]
  },
  {
   "cell_type": "code",
   "execution_count": 179,
   "metadata": {
    "scrolled": true
   },
   "outputs": [
    {
     "data": {
      "text/plain": [
       "5     715\n",
       "6      37\n",
       "7      53\n",
       "11   1144\n",
       "16    856\n",
       "20    403\n",
       "22     86\n",
       "24    625\n",
       "28     65\n",
       "30    260\n",
       "dtype: float64"
      ]
     },
     "execution_count": 179,
     "metadata": {},
     "output_type": "execute_result"
    }
   ],
   "source": [
    "vm_diff = (only_away[['tfm_value_home', 'tfm_value_away']].apply(lambda x: x[1]-x[0],axis=1))/1000000 # diferença entre milhões\n",
    "vm_diff[:10]"
   ]
  },
  {
   "cell_type": "code",
   "execution_count": 180,
   "metadata": {},
   "outputs": [
    {
     "data": {
      "image/png": "[encoded data removed]",
      "text/plain": [
       "<Figure size 1080x360 with 1 Axes>"
      ]
     },
     "metadata": {},
     "output_type": "display_data"
    }
   ],
   "source": [
    "plt.hist(vm_diff, bins=100)\n",
    "cfg_plot(\"Quantidade de vencedores visitantes e a diferença entre o valor de mercado do away e do home\", \n",
    "         \"Diferença entre valor de mercado (em milhões de Euros)\", \n",
    "         \"Quantidade\")"
   ]
  },
  {
   "cell_type": "markdown",
   "metadata": {},
   "source": [
    "Apenas por esse gráfico é possível notar que a vitória do visitante acontece em grande parte das vezes quando o time de fora vale mais (a diferença pode chegar a 750 milhões de Euros!).\n",
    "\n",
    "Um fato interessante está no outlier que aparenta uma diferença pequena de valores. Limitando apenas para o outlier:"
   ]
  },
  {
   "cell_type": "code",
   "execution_count": 181,
   "metadata": {},
   "outputs": [
    {
     "data": {
      "image/png": "[encoded data removed]",
      "text/plain": [
       "<Figure size 1080x360 with 1 Axes>"
      ]
     },
     "metadata": {},
     "output_type": "display_data"
    }
   ],
   "source": [
    "# limitando o range\n",
    "plt.hist(vm_diff, bins=80, range=(-40,100))\n",
    "cfg_plot(\"Quantidade de vencedores visitantes e a diferença entre o valor de mercado do away e do home\", \n",
    "         \"Diferença entre valor de mercado (em milhões de Euros)\", \n",
    "         \"Quantidade\")"
   ]
  },
  {
   "cell_type": "markdown",
   "metadata": {},
   "source": [
    "O outlier positivo é devido à concentração das diferenças até 20 milhões de Euros. É nessa faixa que acontecem grande parte das vitórias fora de casa."
   ]
  },
  {
   "cell_type": "code",
   "execution_count": 182,
   "metadata": {
    "scrolled": true
   },
   "outputs": [
    {
     "name": "stderr",
     "output_type": "stream",
     "text": [
      "C:\\Users\\Mark\\Anaconda3\\lib\\site-packages\\ipykernel_launcher.py:2: SettingWithCopyWarning: \n",
      "A value is trying to be set on a copy of a slice from a DataFrame.\n",
      "Try using .loc[row_indexer,col_indexer] = value instead\n",
      "\n",
      "See the caveats in the documentation: http://pandas.pydata.org/pandas-docs/stable/indexing.html#indexing-view-versus-copy\n",
      "  \n"
     ]
    },
    {
     "data": {
      "text/html": [
       "<div>\n",
       "<style scoped>\n",
       "    .dataframe tbody tr th:only-of-type {\n",
       "        vertical-align: middle;\n",
       "    }\n",
       "\n",
       "    .dataframe tbody tr th {\n",
       "        vertical-align: top;\n",
       "    }\n",
       "\n",
       "    .dataframe thead th {\n",
       "        text-align: right;\n",
       "    }\n",
       "</style>\n",
       "<table border=\"1\" class=\"dataframe\">\n",
       "  <thead>\n",
       "    <tr style=\"text-align: right;\">\n",
       "      <th></th>\n",
       "      <th>home_name</th>\n",
       "      <th>away_name</th>\n",
       "      <th>diff_values</th>\n",
       "    </tr>\n",
       "  </thead>\n",
       "  <tbody>\n",
       "    <tr>\n",
       "      <th>1572</th>\n",
       "      <td>ADO Den Haag</td>\n",
       "      <td>De Graafschap</td>\n",
       "      <td>16</td>\n",
       "    </tr>\n",
       "    <tr>\n",
       "      <th>2778</th>\n",
       "      <td>AZ</td>\n",
       "      <td>FC Utrecht</td>\n",
       "      <td>16</td>\n",
       "    </tr>\n",
       "    <tr>\n",
       "      <th>2676</th>\n",
       "      <td>Ajax</td>\n",
       "      <td>Feyenoord</td>\n",
       "      <td>17</td>\n",
       "    </tr>\n",
       "    <tr>\n",
       "      <th>1429</th>\n",
       "      <td>Angers</td>\n",
       "      <td>Nimes</td>\n",
       "      <td>16</td>\n",
       "    </tr>\n",
       "    <tr>\n",
       "      <th>4894</th>\n",
       "      <td>Angers</td>\n",
       "      <td>Nancy</td>\n",
       "      <td>18</td>\n",
       "    </tr>\n",
       "    <tr>\n",
       "      <th>2913</th>\n",
       "      <td>Antalyaspor</td>\n",
       "      <td>Alanyaspor</td>\n",
       "      <td>16</td>\n",
       "    </tr>\n",
       "    <tr>\n",
       "      <th>3208</th>\n",
       "      <td>Aston Villa</td>\n",
       "      <td>Middlesbrough</td>\n",
       "      <td>19</td>\n",
       "    </tr>\n",
       "    <tr>\n",
       "      <th>1537</th>\n",
       "      <td>Augsburg</td>\n",
       "      <td>SC Freiburg</td>\n",
       "      <td>15</td>\n",
       "    </tr>\n",
       "    <tr>\n",
       "      <th>2238</th>\n",
       "      <td>Auxerre</td>\n",
       "      <td>AS Beziers</td>\n",
       "      <td>16</td>\n",
       "    </tr>\n",
       "    <tr>\n",
       "      <th>3063</th>\n",
       "      <td>Birmingham</td>\n",
       "      <td>Sheff Utd</td>\n",
       "      <td>17</td>\n",
       "    </tr>\n",
       "  </tbody>\n",
       "</table>\n",
       "</div>"
      ],
      "text/plain": [
       "         home_name      away_name  diff_values\n",
       "1572  ADO Den Haag  De Graafschap           16\n",
       "2778            AZ     FC Utrecht           16\n",
       "2676          Ajax      Feyenoord           17\n",
       "1429        Angers          Nimes           16\n",
       "4894        Angers          Nancy           18\n",
       "2913   Antalyaspor     Alanyaspor           16\n",
       "3208   Aston Villa  Middlesbrough           19\n",
       "1537      Augsburg    SC Freiburg           15\n",
       "2238       Auxerre     AS Beziers           16\n",
       "3063    Birmingham      Sheff Utd           17"
      ]
     },
     "execution_count": 182,
     "metadata": {},
     "output_type": "execute_result"
    }
   ],
   "source": [
    "df_prov = df[['home_name', 'away_name']]\n",
    "df_prov['diff_values'] = df.apply(lambda x: x['tfm_value_home']-x['tfm_value_away'], axis=1)/1000000\n",
    "df_prov[(df_prov['diff_values'] <= 20) & (df_prov['diff_values'] >= 15)].sort_values(by='home_name').head(10)\n",
    "\n",
    "#Diferenças positivas indicam times da casa com valor maior. Diferenças negativas indicam times de fora com valor maior."
   ]
  },
  {
   "cell_type": "markdown",
   "metadata": {},
   "source": [
    "Olhando rapidamente a lista gerada (entre 15 e 20 maiores diferenças) os times que se enquadram nesse range estão com os tamanhos bem próximos. Por exemplo, Aston Villa e Middlesbrough são times considerados fracos da Premier League. Por outro lado, os 3 maiores de Portugal também estão nessa listagem com os valores bem próximos."
   ]
  },
  {
   "cell_type": "markdown",
   "metadata": {},
   "source": [
    "## elo_score\n",
    "\n",
    "O poder de previsão desse score tende a ser alto. Então provavelmente ele será usado no modelo final. Vamos explorá-lo um pouco:"
   ]
  },
  {
   "cell_type": "code",
   "execution_count": 183,
   "metadata": {},
   "outputs": [],
   "source": [
    "df_elo = df[['elo_home_score', 'elo_away_score', 'final_result']]"
   ]
  },
  {
   "cell_type": "code",
   "execution_count": 184,
   "metadata": {},
   "outputs": [
    {
     "name": "stderr",
     "output_type": "stream",
     "text": [
      "C:\\Users\\Mark\\Anaconda3\\lib\\site-packages\\ipykernel_launcher.py:1: SettingWithCopyWarning: \n",
      "A value is trying to be set on a copy of a slice from a DataFrame.\n",
      "Try using .loc[row_indexer,col_indexer] = value instead\n",
      "\n",
      "See the caveats in the documentation: http://pandas.pydata.org/pandas-docs/stable/indexing.html#indexing-view-versus-copy\n",
      "  \"\"\"Entry point for launching an IPython kernel.\n"
     ]
    }
   ],
   "source": [
    "df_elo['elo_diff'] = df_elo.apply(lambda x: x[0]-x[1],axis=1)\n",
    "\n",
    "# Valores positivos: Home maior\n",
    "# Valores negativos: Away maior"
   ]
  },
  {
   "cell_type": "code",
   "execution_count": 185,
   "metadata": {},
   "outputs": [
    {
     "name": "stderr",
     "output_type": "stream",
     "text": [
      "C:\\Users\\Mark\\Anaconda3\\lib\\site-packages\\ipykernel_launcher.py:2: SettingWithCopyWarning: \n",
      "A value is trying to be set on a copy of a slice from a DataFrame.\n",
      "Try using .loc[row_indexer,col_indexer] = value instead\n",
      "\n",
      "See the caveats in the documentation: http://pandas.pydata.org/pandas-docs/stable/indexing.html#indexing-view-versus-copy\n",
      "  \n"
     ]
    }
   ],
   "source": [
    "# adicionando notação para facilitar a contagem de resultados positivos e negativos.\n",
    "df_elo['pos_neg'] = df_elo.apply(lambda x: 'P' if x['elo_diff']>=0 else 'N' ,axis=1)"
   ]
  },
  {
   "cell_type": "code",
   "execution_count": 186,
   "metadata": {},
   "outputs": [
    {
     "data": {
      "text/html": [
       "<div>\n",
       "<style scoped>\n",
       "    .dataframe tbody tr th:only-of-type {\n",
       "        vertical-align: middle;\n",
       "    }\n",
       "\n",
       "    .dataframe tbody tr th {\n",
       "        vertical-align: top;\n",
       "    }\n",
       "\n",
       "    .dataframe thead th {\n",
       "        text-align: right;\n",
       "    }\n",
       "</style>\n",
       "<table border=\"1\" class=\"dataframe\">\n",
       "  <thead>\n",
       "    <tr style=\"text-align: right;\">\n",
       "      <th></th>\n",
       "      <th>elo_home_score</th>\n",
       "      <th>elo_away_score</th>\n",
       "      <th>final_result</th>\n",
       "      <th>elo_diff</th>\n",
       "      <th>pos_neg</th>\n",
       "    </tr>\n",
       "  </thead>\n",
       "  <tbody>\n",
       "    <tr>\n",
       "      <th>0</th>\n",
       "      <td>1814</td>\n",
       "      <td>1393</td>\n",
       "      <td>H</td>\n",
       "      <td>421</td>\n",
       "      <td>P</td>\n",
       "    </tr>\n",
       "    <tr>\n",
       "      <th>1</th>\n",
       "      <td>1513</td>\n",
       "      <td>1476</td>\n",
       "      <td>H</td>\n",
       "      <td>38</td>\n",
       "      <td>P</td>\n",
       "    </tr>\n",
       "    <tr>\n",
       "      <th>2</th>\n",
       "      <td>1385</td>\n",
       "      <td>1496</td>\n",
       "      <td>D</td>\n",
       "      <td>-111</td>\n",
       "      <td>N</td>\n",
       "    </tr>\n",
       "    <tr>\n",
       "      <th>3</th>\n",
       "      <td>1931</td>\n",
       "      <td>1841</td>\n",
       "      <td>H</td>\n",
       "      <td>90</td>\n",
       "      <td>P</td>\n",
       "    </tr>\n",
       "    <tr>\n",
       "      <th>4</th>\n",
       "      <td>1606</td>\n",
       "      <td>1856</td>\n",
       "      <td>H</td>\n",
       "      <td>-250</td>\n",
       "      <td>N</td>\n",
       "    </tr>\n",
       "  </tbody>\n",
       "</table>\n",
       "</div>"
      ],
      "text/plain": [
       "   elo_home_score  elo_away_score final_result  elo_diff pos_neg\n",
       "0            1814            1393            H       421       P\n",
       "1            1513            1476            H        38       P\n",
       "2            1385            1496            D      -111       N\n",
       "3            1931            1841            H        90       P\n",
       "4            1606            1856            H      -250       N"
      ]
     },
     "execution_count": 186,
     "metadata": {},
     "output_type": "execute_result"
    }
   ],
   "source": [
    "df_elo.head()"
   ]
  },
  {
   "cell_type": "markdown",
   "metadata": {},
   "source": [
    "### Analisando os resultados de acordo com o score Elo\n",
    "\n",
    "#### 1) Vitória Home & Score\n",
    "\n",
    "Mandantes geralmente ganham os jogos. Fato. Porém, times mais fracos podem se beneficiar disso mesmo tendo um time mais fraco.\n",
    "\n",
    "Um score `positivo` significa que o time da casa tem o score mais alto que o time de fora."
   ]
  },
  {
   "cell_type": "code",
   "execution_count": 187,
   "metadata": {},
   "outputs": [
    {
     "data": {
      "image/png": "[encoded data removed]",
      "text/plain": [
       "<Figure size 1080x360 with 1 Axes>"
      ]
     },
     "metadata": {},
     "output_type": "display_data"
    }
   ],
   "source": [
    "df_elo[df_elo.final_result=='H'].pos_neg.value_counts().plot(kind='bar', color='salmon')\n",
    "cfg_plot(\"Vitória dos mandantes\", \"Elo score Positivo ou negativo\", \"Quantidade\")"
   ]
  },
  {
   "cell_type": "markdown",
   "metadata": {},
   "source": [
    "Mandantes e elo score positivo realmente ganham a maioria dos jogos - quase o dobro das vezes."
   ]
  },
  {
   "cell_type": "markdown",
   "metadata": {},
   "source": [
    "#### 2) Vitória Away & Score"
   ]
  },
  {
   "cell_type": "code",
   "execution_count": 188,
   "metadata": {},
   "outputs": [
    {
     "data": {
      "image/png": "[encoded data removed]",
      "text/plain": [
       "<Figure size 1080x360 with 1 Axes>"
      ]
     },
     "metadata": {},
     "output_type": "display_data"
    }
   ],
   "source": [
    "df_elo[df_elo.final_result=='A'].pos_neg.value_counts().plot(kind='bar', color='salmon')\n",
    "cfg_plot(\"Vitória dos visitantes\", \"Elo score Positivo ou negativo\", \"Quantidade\")"
   ]
  },
  {
   "cell_type": "markdown",
   "metadata": {},
   "source": [
    "Como era de se esperar, os times visitantes que ganham fora de casa são melhores que os mandantes. Isso acontece mais que o dobro das vezes. Mas esses times são muito piores?"
   ]
  },
  {
   "cell_type": "markdown",
   "metadata": {},
   "source": [
    "#### 3) Empate & Score"
   ]
  },
  {
   "cell_type": "code",
   "execution_count": 189,
   "metadata": {},
   "outputs": [
    {
     "data": {
      "image/png": "[encoded data removed]",
      "text/plain": [
       "<Figure size 1080x360 with 1 Axes>"
      ]
     },
     "metadata": {},
     "output_type": "display_data"
    }
   ],
   "source": [
    "df_elo[df_elo.final_result=='D'].pos_neg.value_counts().plot(kind='bar', color='salmon')\n",
    "cfg_plot(\"Empate\", \"Elo score Positivo ou negativo\", \"Quantidade\")"
   ]
  },
  {
   "cell_type": "markdown",
   "metadata": {},
   "source": [
    "Um empate não tem local para acontecer. Quase na mesma proporção os scores são positivos e negativos."
   ]
  }
 ],
 "metadata": {
  "kernelspec": {
   "display_name": "Python 3",
   "language": "python",
   "name": "python3"
  },
  "language_info": {
   "codemirror_mode": {
    "name": "ipython",
    "version": 3
   },
   "file_extension": ".py",
   "mimetype": "text/x-python",
   "name": "python",
   "nbconvert_exporter": "python",
   "pygments_lexer": "ipython3",
   "version": "3.6.5"
  }
 },
 "nbformat": 4,
 "nbformat_minor": 2
}
